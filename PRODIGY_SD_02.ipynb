{
  "nbformat": 4,
  "nbformat_minor": 0,
  "metadata": {
    "colab": {
      "provenance": [],
      "authorship_tag": "ABX9TyPFRT6+0cZCHHzK1502urnn",
      "include_colab_link": true
    },
    "kernelspec": {
      "name": "python3",
      "display_name": "Python 3"
    },
    "language_info": {
      "name": "python"
    }
  },
  "cells": [
    {
      "cell_type": "markdown",
      "metadata": {
        "id": "view-in-github",
        "colab_type": "text"
      },
      "source": [
        "<a href=\"https://colab.research.google.com/github/M-A-Yashaswini-2002/PRODIGY_SD_02/blob/main/PRODIGY_SD_02.ipynb\" target=\"_parent\"><img src=\"https://colab.research.google.com/assets/colab-badge.svg\" alt=\"Open In Colab\"/></a>"
      ]
    },
    {
      "cell_type": "code",
      "execution_count": 1,
      "metadata": {
        "colab": {
          "base_uri": "https://localhost:8080/"
        },
        "id": "p8c2b9vGNVLo",
        "outputId": "34deda27-34b4-48ce-fb94-311ad807be61"
      },
      "outputs": [
        {
          "output_type": "stream",
          "name": "stdout",
          "text": [
            "Welcome to 'Guess the Number' game!\n",
            "I have picked a number between 1 and 100. Try to guess it!\n",
            "Enter your guess: 45\n",
            "Too low! Try again.\n",
            "Enter your guess: 67\n",
            "Too low! Try again.\n",
            "Enter your guess: 98\n",
            "Too high! Try again.\n",
            "Enter your guess: 87\n",
            "Too low! Try again.\n",
            "Enter your guess: 89\n",
            "Too low! Try again.\n",
            "Enter your guess: 90\n",
            "Too low! Try again.\n",
            "Enter your guess: 95\n",
            "Too high! Try again.\n",
            "Enter your guess: 93\n",
            "Too high! Try again.\n",
            "Enter your guess: 91\n",
            "Congratulations! You've guessed the number 91 in 9 attempts.\n"
          ]
        }
      ],
      "source": [
        "import random\n",
        "\n",
        "def guess_the_number():\n",
        "    # Generate a random number between 1 and 100\n",
        "    number_to_guess = random.randint(1, 100)\n",
        "    attempts = 0\n",
        "    guess = None\n",
        "\n",
        "    print(\"Welcome to 'Guess the Number' game!\")\n",
        "    print(\"I have picked a number between 1 and 100. Try to guess it!\")\n",
        "\n",
        "    while guess != number_to_guess:\n",
        "        guess = int(input(\"Enter your guess: \"))\n",
        "        attempts += 1\n",
        "\n",
        "        if guess < number_to_guess:\n",
        "            print(\"Too low! Try again.\")\n",
        "        elif guess > number_to_guess:\n",
        "            print(\"Too high! Try again.\")\n",
        "        else:\n",
        "            print(f\"Congratulations! You've guessed the number {number_to_guess} in {attempts} attempts.\")\n",
        "\n",
        "# Run the game\n",
        "guess_the_number()"
      ]
    },
    {
      "cell_type": "code",
      "source": [],
      "metadata": {
        "id": "Ty2_F7tCOi4F"
      },
      "execution_count": null,
      "outputs": []
    }
  ]
}